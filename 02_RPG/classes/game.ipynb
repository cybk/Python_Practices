{
 "cells": [
  {
   "cell_type": "code",
   "execution_count": null,
   "id": "cabb39e7-5e1d-4abe-aa8e-ba9e63c3e9af",
   "metadata": {},
   "outputs": [],
   "source": [
    "class bcolors:\n",
    "    HEADER = '\\033[95m'\n",
    "    OKBLUE = '\\033[94m'\n",
    "    OKGREEN = '\\033[92m'\n",
    "    WARNING = '\\033[93m'\n",
    "    FAIL = '\\033[91m'\n",
    "    ENDC = '\\033[0m'\n",
    "    BOLD = '\\033[1m'\n",
    "    UNDERLINE = '\\033[4m'\n",
    "\n",
    "class Person:\n",
    "    def __init__(self, hp, mp, atk, df, magic):\n",
    "        self.maxhp = hp\n",
    "        self.hp = hp\n",
    "        self.maxmp = mp\n",
    "        self.mp = mp\n",
    "        self.atkl = atk -10\n",
    "        self.atkh = atk + 10\n",
    "        self.df = df\n",
    "        self.magic = magic\n",
    "        self.actions = [\"Atack\", \"Magic\"]\n",
    "\n",
    "    def generate_damage(self):\n",
    "        return random.randrange(self.atkl, self.atkh)\n",
    "\n",
    "    "
   ]
  }
 ],
 "metadata": {
  "kernelspec": {
   "display_name": "Python 3 (ipykernel)",
   "language": "python",
   "name": "python3"
  },
  "language_info": {
   "codemirror_mode": {
    "name": "ipython",
    "version": 3
   },
   "file_extension": ".py",
   "mimetype": "text/x-python",
   "name": "python",
   "nbconvert_exporter": "python",
   "pygments_lexer": "ipython3",
   "version": "3.9.2"
  }
 },
 "nbformat": 4,
 "nbformat_minor": 5
}
