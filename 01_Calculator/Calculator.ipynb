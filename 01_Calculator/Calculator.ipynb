{
 "cells": [
  {
   "cell_type": "code",
   "execution_count": 1,
   "id": "4d90fcd8-4b05-4d2e-bd5e-734e55b6934a",
   "metadata": {},
   "outputs": [],
   "source": [
    "import re"
   ]
  },
  {
   "cell_type": "code",
   "execution_count": 24,
   "id": "30beac3c-d341-4bc0-9605-999a4a2ae134",
   "metadata": {},
   "outputs": [
    {
     "name": "stdout",
     "output_type": "stream",
     "text": [
      "Our magical Calculator\n",
      "Type 'quit' to exit\n",
      "\n"
     ]
    }
   ],
   "source": [
    "print(\"Our magical Calculator\")\n",
    "print(\"Type 'quit' to exit\\n\")"
   ]
  },
  {
   "cell_type": "code",
   "execution_count": 41,
   "id": "f4ebc4d3-8456-4753-ac27-3fab11c44165",
   "metadata": {},
   "outputs": [],
   "source": [
    "previous = 0\n",
    "run = True\n",
    "def performMat():\n",
    "    global run\n",
    "    global previous\n",
    "    equation = \"\"\n",
    "    if previous == 0:\n",
    "        equation = input(\"Enter equation\")\n",
    "    else:\n",
    "        equation = input(str(previous))\n",
    "        \n",
    "    if equation == \"quit\":\n",
    "        print(\"Goodbye Human\")\n",
    "        run = False\n",
    "    else:\n",
    "        equation = re.sub('[a-zA-Z,.:{}\" \"]', '', equation)\n",
    "\n",
    "        if previous == 0:\n",
    "            previous = eval(equation)\n",
    "        else:\n",
    "            previous = eval(str(previous) + equation)"
   ]
  },
  {
   "cell_type": "code",
   "execution_count": null,
   "id": "488199af-fffb-4a68-9eed-b5a41bb394c9",
   "metadata": {},
   "outputs": [
    {
     "name": "stdin",
     "output_type": "stream",
     "text": [
      "Enter equation 3+5\n",
      "8 *6\n",
      "48 /4\n"
     ]
    }
   ],
   "source": [
    "while run:\n",
    "    performMat()"
   ]
  },
  {
   "cell_type": "code",
   "execution_count": null,
   "id": "2b6e5921-ab1d-4eb0-9f68-906489af186e",
   "metadata": {},
   "outputs": [],
   "source": []
  }
 ],
 "metadata": {
  "kernelspec": {
   "display_name": "Python 3 (ipykernel)",
   "language": "python",
   "name": "python3"
  },
  "language_info": {
   "codemirror_mode": {
    "name": "ipython",
    "version": 3
   },
   "file_extension": ".py",
   "mimetype": "text/x-python",
   "name": "python",
   "nbconvert_exporter": "python",
   "pygments_lexer": "ipython3",
   "version": "3.13.1"
  }
 },
 "nbformat": 4,
 "nbformat_minor": 5
}
