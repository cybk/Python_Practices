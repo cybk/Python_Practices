{
 "cells": [
  {
   "cell_type": "code",
   "execution_count": 1,
   "id": "cfd31369-7d6d-4154-a044-feb3708f2176",
   "metadata": {},
   "outputs": [],
   "source": [
    "def print_people(*people):\n",
    "    for person in people:\n",
    "        print(\"This person is\", person)"
   ]
  },
  {
   "cell_type": "code",
   "execution_count": 3,
   "id": "c2b48aad-5907-4d6a-b66c-b193f15ebe5b",
   "metadata": {},
   "outputs": [
    {
     "name": "stdout",
     "output_type": "stream",
     "text": [
      "This person is Uno\n",
      "This person is dos\n",
      "This person is tres\n",
      "This person is cuatro\n"
     ]
    }
   ],
   "source": [
    "print_people(\"Uno\", \"dos\", \"tres\", \"cuatro\")"
   ]
  },
  {
   "cell_type": "code",
   "execution_count": null,
   "id": "068bae40-baea-483e-b117-fb5096e5963f",
   "metadata": {},
   "outputs": [],
   "source": []
  }
 ],
 "metadata": {
  "kernelspec": {
   "display_name": "Python 3 (ipykernel)",
   "language": "python",
   "name": "python3"
  },
  "language_info": {
   "codemirror_mode": {
    "name": "ipython",
    "version": 3
   },
   "file_extension": ".py",
   "mimetype": "text/x-python",
   "name": "python",
   "nbconvert_exporter": "python",
   "pygments_lexer": "ipython3",
   "version": "3.13.1"
  }
 },
 "nbformat": 4,
 "nbformat_minor": 5
}
